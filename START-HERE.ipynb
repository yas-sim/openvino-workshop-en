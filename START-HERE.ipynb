{
 "cells": [
  {
   "cell_type": "markdown",
   "metadata": {},
   "source": [
    "# Intel(R) Distribution of OpenVINO(tm) - Hands-on Workshop\n"
   ]
  },
  {
   "cell_type": "markdown",
   "metadata": {},
   "source": [
    "In this workshop, you will learn the basic of OpenVINO application and API.\n",
    "\n",
    "## Agenda\n",
    "1.  Learning basic of OpenVINO API through a simple image classification program - [classification.ipynb](./classification.ipynb)\n",
    "2.  Basic of object detection program using OpenVINO - [object-detection-ssd.ipynb](./object-detection-ssd.ipynb)\n",
    "3.  Basic of asynchronous inferencing - [classification-async-single.ipynb](./classification-async-single.ipynb)\n",
    "4.  Technique for high performance inference program - asynchronous and simultaneous inferencing - [classification-async-multi.ipynb](./classification-async-multi.ipynb)"
   ]
  }
 ],
 "metadata": {
  "kernelspec": {
   "display_name": "Python 3",
   "language": "python",
   "name": "python3"
  },
  "language_info": {
   "codemirror_mode": {
    "name": "ipython",
    "version": 3
   },
   "file_extension": ".py",
   "mimetype": "text/x-python",
   "name": "python",
   "nbconvert_exporter": "python",
   "pygments_lexer": "ipython3",
   "version": "3.6.5"
  }
 },
 "nbformat": 4,
 "nbformat_minor": 4
}
