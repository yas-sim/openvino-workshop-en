{
 "cells": [
  {
   "cell_type": "markdown",
   "metadata": {},
   "source": [
    "# Learning basic of OpenVINO API through a simple image classification program\n",
    "Here, you'll learn the basic of OpenVINO Python API through a simple image classification program."
   ]
  },
  {
   "cell_type": "markdown",
   "metadata": {},
   "source": [
    "### Preparing an input image and label text data files\n",
    "First, let's prepare imput image file and class label text file. Those files are in the OpenVINO install directory. We'll simply copy them to the current working directory."
   ]
  },
  {
   "cell_type": "code",
   "execution_count": null,
   "metadata": {},
   "outputs": [],
   "source": [
    "# Linux\n",
    "!cp $INTEL_OPENVINO_DIR/deployment_tools/demo/car.png .\n",
    "!cp $INTEL_OPENVINO_DIR/deployment_tools/demo/squeezenet1.1.labels synset_words.txt"
   ]
  },
  {
   "cell_type": "code",
   "execution_count": null,
   "metadata": {},
   "outputs": [],
   "source": [
    "# Windows\n",
    "!echo %INTEL_OPENVINO_DIR%\n",
    "!copy \"%INTEL_OPENVINO_DIR%\\deployment_tools\\demo\\car.png\" .\n",
    "!copy \"%INTEL_OPENVINO_DIR%\\deployment_tools\\demo\\squeezenet1.1.labels\" synset_words.txt"
   ]
  },
  {
   "cell_type": "markdown",
   "metadata": {},
   "source": [
    "Show the image file and check the picture."
   ]
  },
  {
   "cell_type": "code",
   "execution_count": null,
   "metadata": {},
   "outputs": [],
   "source": [
    "from IPython.display import Image\n",
    "Image('car.png')"
   ]
  },
  {
   "cell_type": "markdown",
   "metadata": {},
   "source": [
    "### Preparing a DL model for inferencing\n",
    "Download a DL model for image classification using `Model downloader` and convert it into OpenVINO IR model with `Model converter`.  \n",
    "We'll use `googlenet-v3` model for this practice."
   ]
  },
  {
   "cell_type": "code",
   "execution_count": null,
   "metadata": {},
   "outputs": [],
   "source": [
    "# Linux  \n",
    "!python3 $INTEL_OPENVINO_DIR/deployment_tools/open_model_zoo/tools/downloader/downloader.py --name googlenet-v3\n",
    "!python3 $INTEL_OPENVINO_DIR/deployment_tools/open_model_zoo/tools/downloader/converter.py  --name googlenet-v3 --precisions FP16\n",
    "!ls public/googlenet-v3/FP16 -l"
   ]
  },
  {
   "cell_type": "code",
   "execution_count": null,
   "metadata": {
    "tags": []
   },
   "outputs": [],
   "source": [
    "# Windows  \n",
    "!python \"%INTEL_OPENVINO_DIR%\\deployment_tools\\open_model_zoo\\tools\\downloader\\downloader.py\" --name googlenet-v3\n",
    "!python \"%INTEL_OPENVINO_DIR%\\deployment_tools\\open_model_zoo\\tools\\downloader\\converter.py\"  --name googlenet-v3 --precisions FP16\n",
    "!dir public\\googlenet-v3\\FP16"
   ]
  },
  {
   "cell_type": "markdown",
   "metadata": {},
   "source": [
    "----\n",
    "The Python inferencing code starts from here."
   ]
  },
  {
   "cell_type": "markdown",
   "metadata": {},
   "source": [
    "### Importing required Python modules\n",
    "At first, let's import required Python modules."
   ]
  },
  {
   "cell_type": "code",
   "execution_count": null,
   "metadata": {},
   "outputs": [],
   "source": [
    "import cv2\n",
    "import numpy as np\n",
    "from openvino.inference_engine import IECore"
   ]
  },
  {
   "cell_type": "markdown",
   "metadata": {},
   "source": [
    "### Reading class label text file"
   ]
  },
  {
   "cell_type": "code",
   "execution_count": null,
   "metadata": {},
   "outputs": [],
   "source": [
    "label = [ s.replace('\\n', '') for s in open('synset_words.txt').readlines() ]\n",
    "\n",
    "print(len(label), 'labels read')   # Show the number of labels\n",
    "print(label[:20])                  # Show first 20 labels"
   ]
  },
  {
   "cell_type": "markdown",
   "metadata": {},
   "source": [
    "### Creating an Inference Engine core object and do some preparation\n",
    "- Create Inference Engine core object\n",
    "- Read IR model data\n",
    "- Information extraction from input and output blob (=buffers)"
   ]
  },
  {
   "cell_type": "code",
   "execution_count": null,
   "metadata": {},
   "outputs": [],
   "source": [
    "# Create an Inference Engine core object\n",
    "ie = IECore()\n",
    "\n",
    "# Read an IR model data to memory\n",
    "model = './public/googlenet-v3/FP16/googlenet-v3'\n",
    "net = ie.read_network(model=model+'.xml', weights=model+'.bin')\n",
    "\n",
    "# Obtain the name of the input and output blob, and input blob shape\n",
    "input_blob_name  = list(net.input_info.keys())[0]\n",
    "output_blob_name = list(net.outputs.keys())[0]\n",
    "batch,channel,height,width = net.input_info[input_blob_name].tensor_desc.dims\n",
    "\n",
    "# Show model input and output information\n",
    "print(input_blob_name, batch, channel, height, width)\n",
    "print(output_blob_name, net.outputs[output_blob_name].shape)"
   ]
  },
  {
   "cell_type": "markdown",
   "metadata": {},
   "source": [
    "### Loading model data to the IE core object\n",
    "Load the model data to the IE core object. The `CPU` is specified as the processor to use for infrencing job.  \n",
    "You can change this to either one of `'GPU'`, `'MYRIAD'`, `'HETERO:FPGA,CPU'` to try another processor.  \n",
    "In most case, you can switch the inferencing processor by just modifying this portion in your OpenVINO baed aplication and the rest of the code can be remain unchanged.  \n",
    "\n",
    "**Note:** The development server of DevCloud only has CPU. You need to use DevCloud edge computing node to try other devices."
   ]
  },
  {
   "cell_type": "code",
   "execution_count": null,
   "metadata": {},
   "outputs": [],
   "source": [
    "exec_net = ie.load_network(network=net, device_name='CPU', num_requests=1)"
   ]
  },
  {
   "cell_type": "markdown",
   "metadata": {},
   "source": [
    "### Reading and manipulate input image\n",
    "Read the input image file and resize and transform it to fit it for input blob of the DL model using OpenCV."
   ]
  },
  {
   "cell_type": "code",
   "execution_count": null,
   "metadata": {},
   "outputs": [],
   "source": [
    "print('input blob: name=\"{}\", N={}, C={}, H={}, W={}'.format(input_blob_name, batch, channel, height, width))\n",
    "img = cv2.imread('car.png')\n",
    "img = cv2.resize(img, (width,height))\n",
    "img = img.transpose((2, 0, 1))\n",
    "img = img.reshape((1, channel, height, width))\n",
    "\n",
    "print(img.shape)"
   ]
  },
  {
   "cell_type": "markdown",
   "metadata": {},
   "source": [
    "### Running inference  \n",
    "The `infer()` API is a blocking function and the control will be kept waited until the inferencing task is completed.  \n",
    "Input data can be passed with a dictionary object in `{input_blob_name:input_data}` format."
   ]
  },
  {
   "cell_type": "code",
   "execution_count": null,
   "metadata": {},
   "outputs": [],
   "source": [
    "res = exec_net.infer(inputs={input_blob_name: img})\n",
    "\n",
    "print(res[output_blob_name].shape)"
   ]
  },
  {
   "cell_type": "markdown",
   "metadata": {},
   "source": [
    "### Displaying the inference result  \n",
    "The `googlenet-v3` model is trained with the ImageNet dataset which has 1000 classes. The model outputs probability in FP32 value for each one of 1000 classes. The output data is an array of FP32 and number of elements is 1000 (float [1000]).  \n",
    "Here, we sort the probability in high to low order and display top 5 results."
   ]
  },
  {
   "cell_type": "code",
   "execution_count": null,
   "metadata": {},
   "outputs": [],
   "source": [
    "result=res[output_blob_name][0]\n",
    "idx = np.argsort(result)[::-1]\n",
    "for i in range(5):\n",
    "    print(idx[i], result[idx[i]], label[idx[i]-1])"
   ]
  },
  {
   "cell_type": "markdown",
   "metadata": {},
   "source": [
    "----\n",
    "Now, you have learnt the most simple image classification program using OpenVINO Python API.  \n",
    "OpenVINO Python API is simple yet very powerful. You can write image classification application with 20+ lines of Python code.  \n",
    "\n",
    "Try changing input picture and see the inferencing result."
   ]
  },
  {
   "cell_type": "markdown",
   "metadata": {},
   "source": [
    "## Next => Basic of object detection program using OpenVINO - [object-detection-ssd.ipynb](./object-detection-ssd.ipynb)"
   ]
  }
 ],
 "metadata": {
  "kernelspec": {
   "name": "python3",
   "display_name": "Python 3.7.9 64-bit"
  },
  "language_info": {
   "codemirror_mode": {
    "name": "ipython",
    "version": 3
   },
   "file_extension": ".py",
   "mimetype": "text/x-python",
   "name": "python",
   "nbconvert_exporter": "python",
   "pygments_lexer": "ipython3",
   "version": "3.7.9"
  },
  "interpreter": {
   "hash": "c9449627750e98e9b1ad30fb225936bb035c6d0e9c862047946b304a9e5cb973"
  }
 },
 "nbformat": 4,
 "nbformat_minor": 4
}