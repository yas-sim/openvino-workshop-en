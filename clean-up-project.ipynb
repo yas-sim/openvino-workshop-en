{
 "cells": [
  {
   "cell_type": "markdown",
   "metadata": {},
   "source": [
    "## Delete files"
   ]
  },
  {
   "cell_type": "code",
   "execution_count": null,
   "metadata": {},
   "outputs": [],
   "source": [
    "# Linux\n",
    "!rm -rf public\n",
    "!rm car_1.bmp\n",
    "!rm car.png\n",
    "!rm synset_words.txt\n",
    "!rm voc_labels.txt\n",
    "!rm -rf benchmark_tool"
   ]
  },
  {
   "cell_type": "code",
   "execution_count": null,
   "metadata": {},
   "outputs": [],
   "source": [
    "# Windows\n",
    "!rmdir /s /q public\n",
    "!del car_1.bmp\n",
    "!del car.png\n",
    "!del synset_words.txt\n",
    "!del voc_labels.txt\n",
    "!rmdir /s /q -rf benchmark_tool"
   ]
  }
 ],
 "metadata": {
  "kernelspec": {
   "display_name": "Python 3",
   "language": "python",
   "name": "python3"
  },
  "language_info": {
   "codemirror_mode": {
    "name": "ipython",
    "version": 3
   },
   "file_extension": ".py",
   "mimetype": "text/x-python",
   "name": "python",
   "nbconvert_exporter": "python",
   "pygments_lexer": "ipython3",
   "version": "3.6.5"
  }
 },
 "nbformat": 4,
 "nbformat_minor": 4
}
